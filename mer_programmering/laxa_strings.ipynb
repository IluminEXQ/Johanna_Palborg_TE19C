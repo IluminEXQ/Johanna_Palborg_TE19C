{
 "metadata": {
  "language_info": {
   "codemirror_mode": {
    "name": "ipython",
    "version": 3
   },
   "file_extension": ".py",
   "mimetype": "text/x-python",
   "name": "python",
   "nbconvert_exporter": "python",
   "pygments_lexer": "ipython3",
   "version": "3.8.3-final"
  },
  "orig_nbformat": 2,
  "kernelspec": {
   "name": "python3",
   "display_name": "Python 3"
  }
 },
 "nbformat": 4,
 "nbformat_minor": 2,
 "cells": [
  {
   "source": [
    "# Läxa vecka 47 \n",
    "## Uppgift 1, 2 och 4\n"
   ],
   "cell_type": "markdown",
   "metadata": {}
  },
  {
   "cell_type": "code",
   "execution_count": 11,
   "metadata": {},
   "outputs": [
    {
     "output_type": "stream",
     "name": "stdout",
     "text": [
      "Ditt namn innehåller 14 bokstäver\n"
     ]
    }
   ],
   "source": [
    "# Uppgift 1\n",
    "namn = input(\"Ange ditt namn här: \")\n",
    "\n",
    "print(f\"Ditt namn innehåller {len(namn)} bokstäver\")\n"
   ]
  },
  {
   "cell_type": "code",
   "execution_count": 5,
   "metadata": {},
   "outputs": [
    {
     "output_type": "stream",
     "name": "stdout",
     "text": [
      "Meningen innehåller 78 bokstäver\n"
     ]
    }
   ],
   "source": [
    "# Uppgift 2\n",
    "mening = \"En bild säger mer än tusen ord, en matematisk formel säger mer än tusen bilder\"\n",
    "\n",
    "print(f\"Meningen innehåller {len(mening)} bokstäver\")\n"
   ]
  },
  {
   "cell_type": "code",
   "execution_count": 13,
   "metadata": {},
   "outputs": [
    {
     "output_type": "stream",
     "name": "stdout",
     "text": [
      "Meningen innehåller D vokaler\nMeningen innehåller o vokaler\nMeningen innehåller   vokaler\nMeningen innehåller n vokaler\nMeningen innehåller o vokaler\nMeningen innehåller t vokaler\nMeningen innehåller   vokaler\nMeningen innehåller w vokaler\nMeningen innehåller o vokaler\nMeningen innehåller r vokaler\nMeningen innehåller r vokaler\nMeningen innehåller y vokaler\nMeningen innehåller   vokaler\nMeningen innehåller a vokaler\nMeningen innehåller b vokaler\nMeningen innehåller o vokaler\nMeningen innehåller u vokaler\nMeningen innehåller t vokaler\nMeningen innehåller   vokaler\nMeningen innehåller y vokaler\nMeningen innehåller o vokaler\nMeningen innehåller u vokaler\nMeningen innehåller r vokaler\nMeningen innehåller   vokaler\nMeningen innehåller d vokaler\nMeningen innehåller i vokaler\nMeningen innehåller f vokaler\nMeningen innehåller f vokaler\nMeningen innehåller i vokaler\nMeningen innehåller c vokaler\nMeningen innehåller u vokaler\nMeningen innehåller l vokaler\nMeningen innehåller t vokaler\nMeningen innehåller i vokaler\nMeningen innehåller e vokaler\nMeningen innehåller s vokaler\nMeningen innehåller   vokaler\nMeningen innehåller i vokaler\nMeningen innehåller n vokaler\nMeningen innehåller   vokaler\nMeningen innehåller M vokaler\nMeningen innehåller a vokaler\nMeningen innehåller t vokaler\nMeningen innehåller h vokaler\nMeningen innehåller e vokaler\nMeningen innehåller m vokaler\nMeningen innehåller a vokaler\nMeningen innehåller t vokaler\nMeningen innehåller i vokaler\nMeningen innehåller c vokaler\nMeningen innehåller s vokaler\nMeningen innehåller . vokaler\nMeningen innehåller   vokaler\nMeningen innehåller I vokaler\nMeningen innehåller   vokaler\nMeningen innehåller c vokaler\nMeningen innehåller a vokaler\nMeningen innehåller n vokaler\nMeningen innehåller   vokaler\nMeningen innehåller a vokaler\nMeningen innehåller s vokaler\nMeningen innehåller s vokaler\nMeningen innehåller u vokaler\nMeningen innehåller r vokaler\nMeningen innehåller e vokaler\nMeningen innehåller   vokaler\nMeningen innehåller y vokaler\nMeningen innehåller o vokaler\nMeningen innehåller u vokaler\nMeningen innehåller   vokaler\nMeningen innehåller m vokaler\nMeningen innehåller i vokaler\nMeningen innehåller n vokaler\nMeningen innehåller e vokaler\nMeningen innehåller   vokaler\nMeningen innehåller a vokaler\nMeningen innehåller r vokaler\nMeningen innehåller e vokaler\nMeningen innehåller   vokaler\nMeningen innehåller s vokaler\nMeningen innehåller t vokaler\nMeningen innehåller i vokaler\nMeningen innehåller l vokaler\nMeningen innehåller l vokaler\nMeningen innehåller   vokaler\nMeningen innehåller g vokaler\nMeningen innehåller r vokaler\nMeningen innehåller e vokaler\nMeningen innehåller a vokaler\nMeningen innehåller t vokaler\nMeningen innehåller e vokaler\nMeningen innehåller r vokaler\n"
     ]
    }
   ],
   "source": [
    "# Uppgift 4\n",
    "\n",
    "vokler = \"a, e, i, o, u\".upper\n",
    "\n",
    "mening = \"Do not worry about your difficulties in Mathematics. I can assure you mine are still greater\"\n",
    "\n",
    "for vokler in mening:\n",
    "    print(f\"Meningen innehåller {vokler} vokaler\")"
   ]
  },
  {
   "cell_type": "code",
   "execution_count": null,
   "metadata": {},
   "outputs": [],
   "source": []
  }
 ]
}