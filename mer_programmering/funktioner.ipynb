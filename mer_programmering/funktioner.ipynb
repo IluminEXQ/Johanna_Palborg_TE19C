{
 "metadata": {
  "language_info": {
   "codemirror_mode": {
    "name": "ipython",
    "version": 3
   },
   "file_extension": ".py",
   "mimetype": "text/x-python",
   "name": "python",
   "nbconvert_exporter": "python",
   "pygments_lexer": "ipython3",
   "version": "3.8.3-final"
  },
  "orig_nbformat": 2,
  "kernelspec": {
   "name": "python3",
   "display_name": "Python 3"
  }
 },
 "nbformat": 4,
 "nbformat_minor": 2,
 "cells": [
  {
   "cell_type": "code",
   "execution_count": 1,
   "metadata": {},
   "outputs": [
    {
     "output_type": "stream",
     "name": "stdout",
     "text": [
      "-9\n-9\n"
     ]
    }
   ],
   "source": [
    "def f(x):\n",
    "    return -x**2\n",
    "\n",
    "print(f(3))\n",
    "print(f(-3))"
   ]
  },
  {
   "cell_type": "code",
   "execution_count": 2,
   "metadata": {},
   "outputs": [
    {
     "output_type": "stream",
     "name": "stdout",
     "text": [
      "Hej\n"
     ]
    }
   ],
   "source": [
    "def sayHello():\n",
    "    print(\"Hej\")\n",
    "\n",
    "sayHello()"
   ]
  },
  {
   "cell_type": "code",
   "execution_count": 3,
   "metadata": {},
   "outputs": [
    {
     "output_type": "stream",
     "name": "stdout",
     "text": [
      "TE19C är bäst\nTE19C ska sluta spela kort\n"
     ]
    }
   ],
   "source": [
    "def skrivUt(text):\n",
    "    print(text)\n",
    "\n",
    "skrivUt(\"TE19C är bäst\")\n",
    "skrivUt(\"TE19C ska sluta spela kort\")"
   ]
  },
  {
   "cell_type": "code",
   "execution_count": 4,
   "metadata": {},
   "outputs": [
    {
     "output_type": "stream",
     "name": "stdout",
     "text": [
      "1\n"
     ]
    }
   ],
   "source": [
    "def minsta(tal1, tal2):\n",
    "    if tal1 > tal2:\n",
    "        return tal2\n",
    "    else:\n",
    "        return tal1\n",
    "\n",
    "print(minsta(1, 1000))"
   ]
  },
  {
   "cell_type": "code",
   "execution_count": null,
   "metadata": {},
   "outputs": [],
   "source": []
  }
 ]
}