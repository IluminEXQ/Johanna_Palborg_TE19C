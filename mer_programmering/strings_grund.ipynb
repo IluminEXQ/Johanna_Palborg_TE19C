{
 "metadata": {
  "language_info": {
   "codemirror_mode": {
    "name": "ipython",
    "version": 3
   },
   "file_extension": ".py",
   "mimetype": "text/x-python",
   "name": "python",
   "nbconvert_exporter": "python",
   "pygments_lexer": "ipython3",
   "version": "3.8.3-final"
  },
  "orig_nbformat": 2,
  "kernelspec": {
   "name": "python3",
   "display_name": "Python 3"
  }
 },
 "nbformat": 4,
 "nbformat_minor": 2,
 "cells": [
  {
   "source": [
    "# strängar i Python\n",
    "* indexeringsoperatorn []\n",
    "* skivoperatorn :\n",
    "* konkatenering\n",
    "* escape-sekvenser"
   ],
   "cell_type": "markdown",
   "metadata": {}
  },
  {
   "cell_type": "code",
   "execution_count": 2,
   "metadata": {},
   "outputs": [
    {
     "output_type": "stream",
     "name": "stdout",
     "text": [
      "Namn: Johanna Palborg\nÅlder: 17\nTelefon: Ja\n"
     ]
    }
   ],
   "source": [
    "förnamn = \"Johanna\"\n",
    "efternamn = \"Palborg\"\n",
    "ålder = \"17\" # datatyp - str \n",
    "address = \"In hell\"\n",
    "telefon = \"Ja\" # datatyp - int (heltal)\n",
    "\n",
    "namn = förnamn + \" \" + efternamn \n",
    "personuppg = \"Namn: \" + namn + \"\\n\" + \"Ålder: \" + ålder + \"\\n\" + \"Telefon: \" + str(telefon) \n",
    "# konkatenering (addera strängarna)\n",
    "\n",
    "\n",
    "print(personuppg)"
   ]
  },
  {
   "cell_type": "code",
   "execution_count": 4,
   "metadata": {},
   "outputs": [
    {
     "output_type": "stream",
     "name": "stdout",
     "text": [
      "55\n"
     ]
    }
   ],
   "source": [
    "tal1 = input(\"Ange ett tal: \")\n",
    "tal2 = input(\"Ange ett annat tal: \")\n",
    "\n",
    "summa = tal1 + tal2 \n",
    "print(summa)\n"
   ]
  },
  {
   "source": [
    "# Indexering"
   ],
   "cell_type": "markdown",
   "metadata": {}
  },
  {
   "cell_type": "code",
   "execution_count": 4,
   "metadata": {},
   "outputs": [
    {
     "output_type": "stream",
     "name": "stdout",
     "text": [
      "Alfabetet innehåller 29 bokstäver\nBokstav på index 0: a\nBokstav på index -2: ä\nBokstav på index 6: g\nAlfabeter baklänges: öäåzyxwvutsrqponmlkjihgfedcba\n"
     ]
    }
   ],
   "source": [
    "alfabet = \"abcdefghijklmnopqrstuvwxyzåäö\"\n",
    "#len() funktion - ger längden på en lista\n",
    "print(f\"Alfabetet innehåller {len(alfabet)} bokstäver\")\n",
    "\n",
    "#indexera\n",
    "print(f\"Bokstav på index 0: {alfabet[0]}\")\n",
    "print(f\"Bokstav på index -2: {alfabet[-2]}\")\n",
    "print(f\"Bokstav på index 6: {alfabet[6]}\")\n",
    "print(f\"Alfabeter baklänges: {alfabet[::-1]}\")\n"
   ]
  },
  {
   "source": [
    "# Split"
   ],
   "cell_type": "markdown",
   "metadata": {}
  },
  {
   "cell_type": "code",
   "execution_count": 6,
   "metadata": {},
   "outputs": [
    {
     "output_type": "stream",
     "name": "stdout",
     "text": [
      "['Matematik', 'programmering', 'teknik', 'webbutveckling', 'fysik']\n['Ja', 'allt', '?', 'idk']\nJag älskar att äta Ja\nJag älskar att äta allt\nJag älskar att äta ?\nJag älskar att äta idk\n"
     ]
    }
   ],
   "source": [
    "favoritämnen = \"Matematik programmering teknik webbutveckling fysik\"\n",
    "favoritmat = \"Ja allt ? idk\"\n",
    "\n",
    "#split() separerar en sträng\n",
    "favoritämnen = favoritämnen.split()\n",
    "favoritmat = favoritmat.split()\n",
    "\n",
    "print(favoritämnen)\n",
    "print(favoritmat)\n",
    "\n",
    "for mat in favoritmat: \n",
    "    print(f\"Jag älskar att äta {mat}\")"
   ]
  },
  {
   "cell_type": "code",
   "execution_count": null,
   "metadata": {},
   "outputs": [],
   "source": []
  }
 ]
}