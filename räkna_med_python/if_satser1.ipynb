{
 "metadata": {
  "language_info": {
   "codemirror_mode": {
    "name": "ipython",
    "version": 3
   },
   "file_extension": ".py",
   "mimetype": "text/x-python",
   "name": "python",
   "nbconvert_exporter": "python",
   "pygments_lexer": "ipython3",
   "version": "3.8.3-final"
  },
  "orig_nbformat": 2,
  "kernelspec": {
   "name": "python3",
   "display_name": "Python 3.8.3 64-bit (conda)",
   "metadata": {
    "interpreter": {
     "hash": "9165862904cd3b3af446efd2881d8b1fe2245a6082c42151547c5c2c16c835e5"
    }
   }
  }
 },
 "nbformat": 4,
 "nbformat_minor": 2,
 "cells": [
  {
   "cell_type": "markdown",
   "metadata": {},
   "source": [
    "# Jänt eller udda\n",
    "\n",
    "* läs in ett tal och cheaka om talet är jämt eller udda"
   ]
  },
  {
   "cell_type": "code",
   "execution_count": 1,
   "metadata": {
    "tags": []
   },
   "outputs": [
    {
     "output_type": "stream",
     "name": "stdout",
     "text": [
      "Talet är jämnt\n"
     ]
    }
   ],
   "source": [
    "tal = int(input(\"Ange ett heltal: \")) # typomvandlar till int (heltal)\n",
    "\n",
    "# med % --> om tal%2 == 0 --> jämnt, annars udda\n",
    "if tal%2 == 0: \n",
    "    print(\"Talet är jämnt\")\n",
    "else:\n",
    "    print (\"Talet är udda\")"
   ]
  },
  {
   "cell_type": "markdown",
   "metadata": {},
   "source": [
    "# Trinangelns vinkel\n",
    "\n",
    "* spetsig\n",
    "* rät\n",
    "* trubbig\n",
    "* annat\n",
    "\n",
    "Spetsig: 0 <= v < 90\n",
    "\n",
    "Rät: v = 90\n",
    "\n",
    "Trubbig: 90 < v < 180\n"
   ]
  },
  {
   "cell_type": "code",
   "execution_count": 8,
   "metadata": {
    "tags": []
   },
   "outputs": [
    {
     "output_type": "stream",
     "name": "stdout",
     "text": "Spetsig vinkel\nProgrammet fortsätter här\n"
    }
   ],
   "source": [
    "vinkel = float(input(\"Ange en vinkel v i grader, där 0 <= v <= 360 : \"))\n",
    "\n",
    "if vinkel >= 0 and vinkel < 90:\n",
    "    print(\"Spetsig vinkel\")\n",
    "elif vinkel == 90:\n",
    "    print(\"Rät vinkel\")\n",
    "elif vinkel > 90 and vinkel < 180:\n",
    "    print(\"Trubbig vinkel\")\n",
    "else:\n",
    "    print(\"Vinkeln är inte spetsig, rät eller trubbig\")\n",
    "\n",
    "print(\"Programmet fortsätter här\") "
   ]
  },
  {
   "source": [
    "# Prov betyg test \n",
    "\n",
    "A: $x >= 60$\n",
    "\n",
    "B: 50 - 59\n",
    "\n",
    "C: 40 - 49\n",
    "\n",
    "D: 30 - 39\n",
    "\n",
    "E: 20 - 29\n",
    "\n",
    "F: $x <= 19$"
   ],
   "cell_type": "markdown",
   "metadata": {}
  },
  {
   "cell_type": "code",
   "execution_count": 1,
   "metadata": {
    "tags": []
   },
   "outputs": [
    {
     "output_type": "stream",
     "name": "stdout",
     "text": [
      "Eleven Ä fick 28 poäng, vilket ger betyg E\n"
     ]
    }
   ],
   "source": [
    "import random as rnd\n",
    "\n",
    "poang = rnd.randint(0,65)\n",
    "\n",
    "klass = [\"Ö\", \"Å\", \"Ä\", \"A\", \"B\"]\n",
    "\n",
    "if poang <= 19:\n",
    "    betyg = \"F\"\n",
    "elif poang <= 29: \n",
    "    betyg = \"E\"\n",
    "elif poang <= 39:\n",
    "    betyg = \"D\"\n",
    "elif poang <= 49:\n",
    "    betyg = \"C\"\n",
    "elif poang <= 59:\n",
    "    betyg = \"B\"\n",
    "else:\n",
    "    betyg = \"A\"\n",
    "\n",
    "elev = rnd.choice(klass)\n",
    "\n",
    "print(f\"Eleven {elev} fick {poang} poäng, vilket ger betyg {betyg}\")"
   ]
  },
  {
   "source": [
    "# Genomgång\n",
    "\n",
    "\n",
    "_for-satser_\n"
   ],
   "cell_type": "markdown",
   "metadata": {}
  },
  {
   "cell_type": "code",
   "execution_count": 2,
   "metadata": {
    "tags": []
   },
   "outputs": [
    {
     "output_type": "stream",
     "name": "stdout",
     "text": "25\n"
    }
   ],
   "source": [
    "s = 0\n",
    "\n",
    "for i in range(1,10,2):\n",
    "    s += i \n",
    "\n",
    "print(s)"
   ]
  },
  {
   "source": [
    "# Skriv ut alla tal 1-100\n"
   ],
   "cell_type": "markdown",
   "metadata": {}
  },
  {
   "cell_type": "code",
   "execution_count": 4,
   "metadata": {
    "tags": []
   },
   "outputs": [
    {
     "output_type": "stream",
     "name": "stdout",
     "text": "1 2 3 4 5 6 7 8 9 10 11 12 13 14 15 16 17 18 19 20 21 22 23 24 25 26 27 28 29 30 31 32 33 34 35 36 37 38 39 40 41 42 43 44 45 46 47 48 49 50 51 52 53 54 55 56 57 58 59 60 61 62 63 64 65 66 67 68 69 70 71 72 73 74 75 76 77 78 79 80 81 82 83 84 85 86 87 88 89 90 91 92 93 94 95 96 97 98 99 100"
    }
   ],
   "source": [
    "for i in range(1,101):\n",
    "    print(i, end = \" \")"
   ]
  },
  {
   "cell_type": "code",
   "execution_count": 5,
   "metadata": {
    "tags": []
   },
   "outputs": [
    {
     "output_type": "stream",
     "name": "stdout",
     "text": "50 51 52 53 54 55 56 57 58 59 60 61 62 63 64 65 66 67 68 69 70 71 72 73 74 75 76 77 78 79 80 81 82 83 84 85 86 87 88 89 90 91 92 93 94 95 96 97 98 99 100"
    }
   ],
   "source": [
    "# 50 till 100 \n",
    "for j in range(50,101):\n",
    "    print(j, end = \" \")"
   ]
  },
  {
   "cell_type": "code",
   "execution_count": 8,
   "metadata": {
    "tags": []
   },
   "outputs": [
    {
     "output_type": "stream",
     "name": "stdout",
     "text": "100 99 98 97 96 95 94 93 92 91 90 89 88 87 86 85 84 83 82 81 80 79 78 77 76 75 74 73 72 71 70 69 68 67 66 65 64 63 62 61 60 59 58 57 56 55 54 53 52 51 50 50 49 48 47 46 45 44 43 42 41 40 39 38 37 36 35 34 33 32 31 30 29 28 27 26 25 24 23 22 21 20 19 18 17 16 15 14 13 12 11 10 9 8 7 6 5 4 3 2 1"
    }
   ],
   "source": [
    "# 100 till 50\n",
    "for j in range(100,49,-1):\n",
    "    print(j, end = \" \") \n",
    "\n",
    "for i in range(100,150):\n",
    "    print(150-i, end = \" \")"
   ]
  },
  {
   "cell_type": "code",
   "execution_count": 9,
   "metadata": {
    "tags": []
   },
   "outputs": [
    {
     "output_type": "stream",
     "name": "stdout",
     "text": "Hej \n då\n"
    }
   ],
   "source": [
    "print(\"Hej \\n då\")"
   ]
  },
  {
   "source": [
    "$1 + 2 + 3 + ... + 9 + 10$"
   ],
   "cell_type": "markdown",
   "metadata": {}
  },
  {
   "cell_type": "code",
   "execution_count": 10,
   "metadata": {
    "tags": []
   },
   "outputs": [
    {
     "output_type": "stream",
     "name": "stdout",
     "text": "1 + 2 + 3 + ... + 9 + 10 = 11\n"
    }
   ],
   "source": [
    "s = 0 \n",
    "\n",
    "for i in range(11):\n",
    "    s += 1\n",
    "\n",
    "print(f\"1 + 2 + 3 + ... + 9 + 10 = {s}\")"
   ]
  },
  {
   "cell_type": "code",
   "execution_count": 12,
   "metadata": {
    "tags": []
   },
   "outputs": [
    {
     "output_type": "stream",
     "name": "stdout",
     "text": "# # # # # # # # 0\n# # # # # # # # 1\n# # # # # # # # 2\n# # # # # # # # 3\n# # # # # # # # 4\n# # # # # # # # 5\n# # # # # # # # 6\n# # # # # # # # 7\n"
    }
   ],
   "source": [
    "for i in range(8):\n",
    "    for j in range(8):\n",
    "        print(\"#\", end = \" \")\n",
    "    print(i)\n"
   ]
  },
  {
   "cell_type": "code",
   "execution_count": null,
   "metadata": {},
   "outputs": [],
   "source": []
  }
 ]
}