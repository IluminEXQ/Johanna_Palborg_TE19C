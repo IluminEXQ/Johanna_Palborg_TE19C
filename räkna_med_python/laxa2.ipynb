{
 "metadata": {
  "language_info": {
   "codemirror_mode": {
    "name": "ipython",
    "version": 3
   },
   "file_extension": ".py",
   "mimetype": "text/x-python",
   "name": "python",
   "nbconvert_exporter": "python",
   "pygments_lexer": "ipython3",
   "version": "3.8.3-final"
  },
  "orig_nbformat": 2,
  "kernelspec": {
   "name": "Python 3.8.3 64-bit ('base': conda)",
   "display_name": "Python 3.8.3 64-bit ('base': conda)",
   "metadata": {
    "interpreter": {
     "hash": "9165862904cd3b3af446efd2881d8b1fe2245a6082c42151547c5c2c16c835e5"
    }
   }
  }
 },
 "nbformat": 4,
 "nbformat_minor": 2,
 "cells": [
  {
   "cell_type": "code",
   "execution_count": null,
   "metadata": {},
   "outputs": [],
   "source": []
  },
  {
   "cell_type": "code",
   "execution_count": 7,
   "metadata": {
    "tags": []
   },
   "outputs": [
    {
     "output_type": "stream",
     "name": "stdout",
     "text": "Ditt tal är negativt\n"
    }
   ],
   "source": [
    "tal = float(input(\"Ange ett tal\"))\n",
    "\n",
    "if tal > 0:\n",
    "    print(\"Ditt tal är positivt\")\n",
    "elif tal == 0:\n",
    "    print(\"Ditt tal är noll\")\n",
    "else:\n",
    "    print(\"Ditt tal är negativt\")\n",
    "   \n"
   ]
  },
  {
   "cell_type": "code",
   "execution_count": 13,
   "metadata": {},
   "outputs": [
    {
     "output_type": "stream",
     "name": "stdout",
     "text": [
      "1+3+5+7+9 = 25\n"
     ]
    }
   ],
   "source": [
    "n = 1 \n",
    "'''\n",
    "while n < 10:\n",
    "    print(n, end = \" \")\n",
    "    n = n + 1 #n += 1 \n",
    "'''\n",
    "summa = 0 \n",
    "while n < 10:\n",
    "    summa = summa + n\n",
    "    n += 2 \n",
    "print(f\"1+3+5+7+9 = {summa}\")\n"
   ]
  },
  {
   "cell_type": "code",
   "execution_count": 15,
   "metadata": {},
   "outputs": [
    {
     "output_type": "stream",
     "name": "stdout",
     "text": [
      "1500000 2250000.0 3375000.0 5062500.0 7593750.0 "
     ]
    }
   ],
   "source": [
    "'''\n",
    "1L mjölk 1500000 bakterier\n",
    "I rumstemp ökar antal bakterier med 50% varje timme\n",
    "Mjölk blir sur när bakterierna överstiger 10000000 st \n",
    "Hur många timmar tills mjölken blir sur?\n",
    "'''\n",
    "\n",
    "mjölk = 1500000\n",
    "while mjölk < 10000000:\n",
    "    print(mjölk, end = \" \")\n",
    "    mjölk*= 1.5"
   ]
  },
  {
   "cell_type": "code",
   "execution_count": null,
   "metadata": {},
   "outputs": [],
   "source": []
  }
 ]
}