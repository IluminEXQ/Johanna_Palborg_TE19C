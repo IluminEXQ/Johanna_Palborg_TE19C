{
 "metadata": {
  "language_info": {
   "codemirror_mode": {
    "name": "ipython",
    "version": 3
   },
   "file_extension": ".py",
   "mimetype": "text/x-python",
   "name": "python",
   "nbconvert_exporter": "python",
   "pygments_lexer": "ipython3",
   "version": "3.8.3-final"
  },
  "orig_nbformat": 2,
  "kernelspec": {
   "name": "python3",
   "display_name": "Python 3"
  }
 },
 "nbformat": 4,
 "nbformat_minor": 2,
 "cells": [
  {
   "source": [
    "# Uppgift nummer 1\n",
    "\n",
    "Tänk dig en cirkel med radien 1 l.e. inskriven i en kvadrat med sidan 2 l.e., se figur 1. Det vi ska simulera är \"pilkastning\" mot den här ytan."
   ],
   "cell_type": "markdown",
   "metadata": {}
  },
  {
   "cell_type": "code",
   "execution_count": 6,
   "metadata": {},
   "outputs": [
    {
     "output_type": "error",
     "ename": "TypeError",
     "evalue": "list indices must be integers or slices, not float",
     "traceback": [
      "\u001b[1;31m---------------------------------------------------------------------------\u001b[0m",
      "\u001b[1;31mTypeError\u001b[0m                                 Traceback (most recent call last)",
      "\u001b[1;32m<ipython-input-6-458222253da6>\u001b[0m in \u001b[0;36m<module>\u001b[1;34m\u001b[0m\n\u001b[0;32m      3\u001b[0m \u001b[0mp1\u001b[0m \u001b[1;33m=\u001b[0m \u001b[1;33m[\u001b[0m\u001b[1;36m0\u001b[0m\u001b[1;33m,\u001b[0m \u001b[1;36m0\u001b[0m\u001b[1;33m]\u001b[0m\u001b[1;33m\u001b[0m\u001b[1;33m\u001b[0m\u001b[0m\n\u001b[0;32m      4\u001b[0m \u001b[0mp2\u001b[0m \u001b[1;33m=\u001b[0m \u001b[1;33m[\u001b[0m\u001b[1;36m0.5\u001b[0m\u001b[1;33m,\u001b[0m \u001b[1;36m0.5\u001b[0m\u001b[1;33m]\u001b[0m\u001b[1;33m\u001b[0m\u001b[1;33m\u001b[0m\u001b[0m\n\u001b[1;32m----> 5\u001b[1;33m \u001b[0mdistance\u001b[0m \u001b[1;33m=\u001b[0m \u001b[0mmath\u001b[0m\u001b[1;33m.\u001b[0m\u001b[0msqrt\u001b[0m \u001b[1;33m(\u001b[0m \u001b[1;33m(\u001b[0m\u001b[1;33m(\u001b[0m\u001b[0mp1\u001b[0m\u001b[1;33m[\u001b[0m\u001b[1;36m0\u001b[0m\u001b[1;33m]\u001b[0m\u001b[1;33m-\u001b[0m\u001b[0mp2\u001b[0m\u001b[1;33m[\u001b[0m\u001b[1;36m0.5\u001b[0m\u001b[1;33m]\u001b[0m\u001b[1;33m)\u001b[0m\u001b[1;33m**\u001b[0m\u001b[1;36m2\u001b[0m\u001b[1;33m)\u001b[0m\u001b[1;33m+\u001b[0m\u001b[1;33m(\u001b[0m\u001b[1;33m(\u001b[0m\u001b[0mp1\u001b[0m\u001b[1;33m[\u001b[0m\u001b[1;36m0\u001b[0m\u001b[1;33m]\u001b[0m\u001b[1;33m-\u001b[0m\u001b[0mp2\u001b[0m\u001b[1;33m[\u001b[0m\u001b[1;36m0.5\u001b[0m\u001b[1;33m]\u001b[0m\u001b[1;33m)\u001b[0m\u001b[1;33m**\u001b[0m\u001b[1;36m2\u001b[0m\u001b[1;33m)\u001b[0m \u001b[1;33m)\u001b[0m\u001b[1;33m\u001b[0m\u001b[1;33m\u001b[0m\u001b[0m\n\u001b[0m\u001b[0;32m      6\u001b[0m \u001b[0mprint\u001b[0m \u001b[1;33m(\u001b[0m\u001b[0mdistance\u001b[0m\u001b[1;33m)\u001b[0m\u001b[1;33m\u001b[0m\u001b[1;33m\u001b[0m\u001b[0m\n",
      "\u001b[1;31mTypeError\u001b[0m: list indices must be integers or slices, not float"
     ]
    }
   ],
   "source": [
    "# a)\n",
    "import math\n",
    "p1 = [0, 0]\n",
    "p2 = [0.5, 0.5]\n",
    "distance = math.sqrt ( ((p1[0]-p2[0.5])**2)+((p1[0]-p2[0.5])**2) ) \n",
    "print (distance)"
   ]
  },
  {
   "cell_type": "code",
   "execution_count": null,
   "metadata": {},
   "outputs": [],
   "source": [
    "# b)\n"
   ]
  },
  {
   "cell_type": "code",
   "execution_count": null,
   "metadata": {},
   "outputs": [],
   "source": [
    "# c)\n"
   ]
  },
  {
   "cell_type": "code",
   "execution_count": null,
   "metadata": {},
   "outputs": [],
   "source": [
    "# d)\n"
   ]
  },
  {
   "cell_type": "code",
   "execution_count": 1,
   "metadata": {},
   "outputs": [
    {
     "output_type": "stream",
     "name": "stdout",
     "text": [
      "3.13648\n"
     ]
    }
   ],
   "source": [
    "# e) f) g) h)\n",
    "\n",
    "import random\n",
    "import numpy as np\n",
    "import math\n",
    "\n",
    "\n",
    "i = 0 # Startvärde på hur många punkter som finns\n",
    "\n",
    "for j in range(50000): # Hur många punkter som ska simuleras\n",
    "    x = random.uniform(-1,1) \n",
    "    y = random.uniform(-1,1)\n",
    "\n",
    "    avstånd = np.sqrt(x**2+y**2) # Max avståndet en punkt innanför cirkeln kan vara\n",
    "\n",
    "# Print(avstånd)\n",
    "\n",
    "    if avstånd < 1: # Om avståndet är mindre än ett så är punkten innanför cirkeln\n",
    "        i += 1 # Lägger till antalet punkter innanför cirkeln\n",
    "k = 4*i/50000 # Antal punkter innanför gånger fyra sen delat på totala antalet punkter simulerade\n",
    "\n",
    "print(k) # Desto mer punkter man simulerar, ju närmare kommer man pi"
   ]
  },
  {
   "source": [
    "# Uppgift 2 - Burr\n",
    "\n",
    "När Kokchun gick i mellanstadiet fick klassem spela ett spel som heter Burr för att träna på multiplikationstabellen. Det går ut på att varje elev räknar upp heltal tills dess man hmnar på en multiple av ett tal. Då ska man istället säger \"Burr\" och nästa elev försätter räkna. Ni ska återskapa det här spelet med hjälp av python."
   ],
   "cell_type": "markdown",
   "metadata": {}
  },
  {
   "cell_type": "code",
   "execution_count": 11,
   "metadata": {},
   "outputs": [
    {
     "output_type": "stream",
     "name": "stdout",
     "text": [
      "burr 1 2 3 4 burr 6 7 8 9 burr 11 12 13 14 burr 16 17 18 19 burr 21 22 23 24 burr 26 27 28 29 burr 31 32 33 34 burr 36 37 38 39 burr 41 42 43 44 burr 46 47 48 49 burr 51 52 53 54 burr 56 57 58 59 burr 61 62 63 64 burr 66 67 68 69 burr 71 72 73 74 burr 76 77 78 79 burr 81 82 83 84 burr 86 87 88 89 burr 91 92 93 94 burr 96 97 98 99 burr antalet birr:0 antalet burr:21 "
     ]
    }
   ],
   "source": [
    "\n",
    "start = int(input(\"Ange startvärde\")) # Du får skriva in ett tal som den ka räkna från.\n",
    "slut = int(input(\"Ange slutvärde\")) + 1 # Du skriver in ett slut-tal\n",
    "\n",
    "burr = int(input(\"Ange din multipel\")) # Du skirver in ett tal som den ska säga \"Burr\" till\n",
    "birr = int(input(\"Ange din multipel\")) # Du skriver in ett tal som den ska säga \"Birr\" till\n",
    "\n",
    "aburr = 0 # Hur många \"burr\" det blir\n",
    "abirr = 0 # Hur många \"Birr\" det blir\n",
    "\n",
    "for i in range(start,slut):\n",
    "    if i % burr == 0:\n",
    "        print(\"burr\", end = \" \") \n",
    "        aburr += 1\n",
    "    \n",
    "    elif i % birr == 0:\n",
    "        print(\"birr\", end = \" \") \n",
    "        abirr += 1\n",
    "    \n",
    "    else:\n",
    "        print(i, end = \" \")\n",
    "\n",
    "\n",
    "print(f\"Antalet birr:{abirr}\", end = \" \")\n",
    "print(f\"Antalet burr:{aburr}\", end = \" \")"
   ]
  }
 ]
}