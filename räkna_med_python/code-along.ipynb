{
 "metadata": {
  "language_info": {
   "codemirror_mode": {
    "name": "ipython",
    "version": 3
   },
   "file_extension": ".py",
   "mimetype": "text/x-python",
   "name": "python",
   "nbconvert_exporter": "python",
   "pygments_lexer": "ipython3",
   "version": "3.8.3-final"
  },
  "orig_nbformat": 2,
  "kernelspec": {
   "name": "Python 3.8.3 64-bit ('base': conda)",
   "display_name": "Python 3.8.3 64-bit ('base': conda)",
   "metadata": {
    "interpreter": {
     "hash": "9165862904cd3b3af446efd2881d8b1fe2245a6082c42151547c5c2c16c835e5"
    }
   }
  }
 },
 "nbformat": 4,
 "nbformat_minor": 2,
 "cells": [
  {
   "source": [
    "# While-Satser\n",
    "\n",
    "Kod upprepas så länge villkoret gäller\n",
    "\n",
    "for-sats: kod upprepas ett bestäm antal gånger"
   ],
   "cell_type": "markdown",
   "metadata": {}
  },
  {
   "cell_type": "code",
   "execution_count": 1,
   "metadata": {
    "tags": []
   },
   "outputs": [
    {
     "output_type": "stream",
     "name": "stdout",
     "text": "Jämna tal från 0-10\n0 2 4 6 8 10 "
    }
   ],
   "source": [
    "print(\"Jämna tal från 0-10\")\n",
    "n = 0\n",
    "while n <=10:\n",
    "    print(n, end = \" \")\n",
    "    n += 2\n"
   ]
  },
  {
   "source": [
    "# Miljöutsläpp\n",
    "\n",
    "Ett miljöutsläpp halverar fågelpopulation i en ö varje år.\n",
    "\n",
    "Fågelpopulationen började på 8000st\n",
    "\n",
    "Hur många år tar det tills populationen blir mindre än en tiondel?"
   ],
   "cell_type": "markdown",
   "metadata": {}
  },
  {
   "cell_type": "code",
   "execution_count": 5,
   "metadata": {
    "tags": []
   },
   "outputs": [
    {
     "output_type": "stream",
     "name": "stdout",
     "text": "År 0: antal fåglar: 8000st\nÅr 1: antal fåglar: 4000.0st\nÅr 2: antal fåglar: 2000.0st\nÅr 3: antal fåglar: 1000.0st\nÅr 4: antal fåglar: 500.0st\nDet tar 4 år tills fågelpopulation understiger en tiondel\n"
    }
   ],
   "source": [
    "fåglar = 8000\n",
    "antal_år = 0\n",
    "\n",
    "print(f\"År {antal_år}: antal fåglar: {fåglar}st\")\n",
    "\n",
    "while fåglar >= 800:\n",
    "    fåglar /= 2\n",
    "    antal_år += 1 \n",
    "    print(f\"År {antal_år}: antal fåglar: {fåglar}st\")\n",
    "\n",
    "print(f\"Det tar {antal_år} år tills fågelpopulation understiger en tiondel\")\n",
    "\n"
   ]
  },
  {
   "cell_type": "code",
   "execution_count": null,
   "metadata": {},
   "outputs": [],
   "source": [
    "'''\n",
    "    multiline kommentar\n",
    "\n",
    "    x = 5 \n",
    "    print(\"hej\")\n",
    "'''\n",
    "\n",
    "print(\"då\")"
   ]
  }
 ]
}