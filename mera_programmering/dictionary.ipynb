{
 "cells": [
  {
   "cell_type": "markdown",
   "metadata": {},
   "source": [
    "# Dictionary \n",
    "- netafor: en ordlista - söker på ett ord och får fram en förklaring \n",
    "- key:value par"
   ]
  },
  {
   "cell_type": "code",
   "execution_count": 3,
   "metadata": {},
   "outputs": [
    {
     "ename": "SyntaxError",
     "evalue": "invalid syntax (<ipython-input-3-47f8138dfa2f>, line 2)",
     "output_type": "error",
     "traceback": [
      "\u001b[1;36m  File \u001b[1;32m\"<ipython-input-3-47f8138dfa2f>\"\u001b[1;36m, line \u001b[1;32m2\u001b[0m\n\u001b[1;33m    person = dict{\u001b[0m\n\u001b[1;37m                 ^\u001b[0m\n\u001b[1;31mSyntaxError\u001b[0m\u001b[1;31m:\u001b[0m invalid syntax\n"
     ]
    }
   ],
   "source": [
    "# syntax med dict()\r\n",
    "person = dict{\r\n",
    "    name = \"Bless\"\r\n",
    "    age = \"17-20\"\r\n",
    "    work = \"I dont know man\"\r\n",
    "    workplace = \"Hemma\"\r\n",
    "}\r\n",
    "\r\n",
    "print(person)\r\n",
    "print(f\"The persons name is {person['name']}\")\r\n",
    "print(f\"She is {person['age']} year old\")\r\n",
    "print(f\"{person['name']} work as {person['work']} on {person['workplace']}\")"
   ]
  },
  {
   "cell_type": "code",
   "execution_count": null,
   "metadata": {},
   "outputs": [],
   "source": []
  }
 ],
 "metadata": {
  "kernelspec": {
   "display_name": "Python 3.8.3 64-bit (conda)",
   "metadata": {
    "interpreter": {
     "hash": "9165862904cd3b3af446efd2881d8b1fe2245a6082c42151547c5c2c16c835e5"
    }
   },
   "name": "python3"
  },
  "language_info": {
   "codemirror_mode": {
    "name": "ipython",
    "version": 3
   },
   "file_extension": ".py",
   "mimetype": "text/x-python",
   "name": "python",
   "nbconvert_exporter": "python",
   "pygments_lexer": "ipython3",
   "version": "3.8.3"
  },
  "orig_nbformat": 2
 },
 "nbformat": 4,
 "nbformat_minor": 2
}