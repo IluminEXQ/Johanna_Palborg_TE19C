{
 "cells": [
  {
   "cell_type": "markdown",
   "metadata": {},
   "source": [
    "# Filhantering\r\n",
    "\r\n",
    "- Uppgift 1\r\n",
    "- Uppgift 2\r\n"
   ]
  },
  {
   "cell_type": "code",
   "execution_count": 2,
   "metadata": {},
   "outputs": [
    {
     "name": "stdout",
     "output_type": "stream",
     "text": [
      "[4, 6, 5, 2, 6, 5, 4, 2, 5, 5, 1]\n",
      "[1, 2, 2, 4, 4, 5, 5, 5, 5, 6, 6]\n",
      "antal femmor: 4\n"
     ]
    }
   ],
   "source": [
    "# Uppgift 1\r\n",
    "import random as rnd\r\n",
    "\r\n",
    "kast = []\r\n",
    "sorterad = []\r\n",
    "fem = 0\r\n",
    "\r\n",
    "with open(\"diceRoll.txt\", \"w\") as f2:\r\n",
    "    for i in range(11):\r\n",
    "        tärning = (rnd.randint(1,6))\r\n",
    "        kast.append(tärning)\r\n",
    "        sorterad = sorted(kast)\r\n",
    "        if tärning == 5:\r\n",
    "            fem += 1\r\n",
    "        # print(tärning, end=\" \")\r\n",
    "    f2.write(f\"{kast} \")\r\n",
    "    f2.write(f\"{sorterad} \")\r\n",
    "    print(kast)\r\n",
    "    print(sorterad)\r\n",
    "    print(f\"antal femmor: {fem}\")\r\n",
    "    \r\n",
    "\r\n"
   ]
  },
  {
   "cell_type": "code",
   "execution_count": 3,
   "metadata": {},
   "outputs": [
    {
     "name": "stdout",
     "output_type": "stream",
     "text": [
      "Adam Gustafsson 25\n",
      " "
     ]
    }
   ],
   "source": [
    "# Uppgift 2\r\n",
    "\r\n",
    "sorterad = []\r\n",
    "with open (\"Provresultat.txt\", \"r\") as f1:\r\n",
    "    for rad in f1:\r\n",
    "        print(rad, end = \" \")\r\n",
    "        sorterad = sorted(f1)"
   ]
  }
 ],
 "metadata": {
  "kernelspec": {
   "display_name": "Python 3.8.3 64-bit (conda)",
   "metadata": {
    "interpreter": {
     "hash": "9165862904cd3b3af446efd2881d8b1fe2245a6082c42151547c5c2c16c835e5"
    }
   },
   "name": "python3"
  },
  "language_info": {
   "codemirror_mode": {
    "name": "ipython",
    "version": 3
   },
   "file_extension": ".py",
   "mimetype": "text/x-python",
   "name": "python",
   "nbconvert_exporter": "python",
   "pygments_lexer": "ipython3",
   "version": "3.8.3"
  },
  "orig_nbformat": 2
 },
 "nbformat": 4,
 "nbformat_minor": 2
}