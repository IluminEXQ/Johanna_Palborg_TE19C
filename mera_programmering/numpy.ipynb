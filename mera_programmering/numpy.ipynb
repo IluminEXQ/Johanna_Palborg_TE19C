{
 "cells": [
  {
   "cell_type": "markdown",
   "metadata": {},
   "source": [
    "# Numpy \r\n",
    "\r\n",
    "Numerisk python\r\n",
    "- Arrays (fält)\r\n",
    "- Lik Listor\r\n",
    "- Matematiska operationer på arrays\r\n",
    "- Modellera vektorer och matriser\r\n"
   ]
  },
  {
   "cell_type": "code",
   "execution_count": 6,
   "metadata": {},
   "outputs": [
    {
     "name": "stdout",
     "output_type": "stream",
     "text": [
      "Array: [1 2 3 4]\n",
      "Lista: [1, 2, 3, 4]\n",
      "3\n",
      "[2 4 6 8]\n",
      "[1, 2, 3, 4, 1, 2, 3, 4]\n",
      "[ 1  4  9 16]\n"
     ]
    }
   ],
   "source": [
    "import numpy as np\r\n",
    "\r\n",
    "array1 = np.array([1,2,3,4])\r\n",
    "\r\n",
    "lista1 = [1,2,3,4]\r\n",
    "\r\n",
    "print(f\"Array: {array1}\")\r\n",
    "print(f\"Lista: {lista1}\")\r\n",
    "\r\n",
    "# indexera arrays, fungerar på samma sätt som att indexera listor []\r\n",
    "print(array1[2])\r\n",
    "\r\n",
    "# multiplicera alla tal med 2\r\n",
    "array2 = array1*2\r\n",
    "print(array2)\r\n",
    "\r\n",
    "lista2 = lista1*2\r\n",
    "print(lista2)\r\n",
    "\r\n",
    "kvadrater = array1**2\r\n",
    "print(kvadrater)"
   ]
  },
  {
   "cell_type": "markdown",
   "metadata": {},
   "source": [
    "## Användbara numpy-funktioner \r\n",
    "- zeros\r\n",
    "- ones\r\n",
    "- arange\r\n",
    "- linspace\r\n",
    "- matematiska funktioner och konstanter: pi, sqrt"
   ]
  },
  {
   "cell_type": "code",
   "execution_count": 7,
   "metadata": {},
   "outputs": [
    {
     "name": "stdout",
     "output_type": "stream",
     "text": [
      "[0 1 2 3 4 5 6 7 8 9]\n",
      "[0.         1.         1.41421356 1.73205081 2.         2.23606798\n",
      " 2.44948974 2.64575131 2.82842712 3.        ]\n",
      "[0. 0. 0. 0. 0. 0.]\n",
      "[1. 1. 1. 1. 1. 1.]\n"
     ]
    }
   ],
   "source": [
    "import numpy as np\r\n",
    "\r\n",
    "# arange \r\n",
    "tal = np.arange(10)\r\n",
    "print(tal)\r\n",
    "# sqrt\r\n",
    "print(np.sqrt(tal))\r\n",
    "\r\n",
    "nollor = np.zeros(6)\r\n",
    "print(nollor)\r\n",
    "\r\n",
    "ettor = np.ones(6)\r\n",
    "print(ettor)\r\n",
    "\r\n"
   ]
  },
  {
   "cell_type": "code",
   "execution_count": 15,
   "metadata": {},
   "outputs": [
    {
     "name": "stdout",
     "output_type": "stream",
     "text": [
      "[0 0 0 0 0 0]\n",
      "Tärningskast: [167 167 158 166 158 184]\n",
      "Sannolikhet: [0.167 0.167 0.158 0.166 0.158 0.184]\n"
     ]
    }
   ],
   "source": [
    "import numpy as np\r\n",
    "import random as rnd\r\n",
    "\r\n",
    "# array med nollor för att preallokera minne\r\n",
    "utfall = np.zeros(6, dtype=int)\r\n",
    "print(utfall)\r\n",
    "\r\n",
    "antal_kast = 1000\r\n",
    "for i in range(antal_kast):\r\n",
    "    kast = rnd.randint(1,6)\r\n",
    "    utfall[kast-1] += 1\r\n",
    "\r\n",
    "print(f\"Tärningskast: {utfall}\")\r\n",
    "print(f\"Sannolikhet: {utfall/antal_kast}\")\r\n"
   ]
  }
 ],
 "metadata": {
  "kernelspec": {
   "display_name": "Python 3.8.3 64-bit (conda)",
   "metadata": {
    "interpreter": {
     "hash": "9165862904cd3b3af446efd2881d8b1fe2245a6082c42151547c5c2c16c835e5"
    }
   },
   "name": "python3"
  },
  "language_info": {
   "codemirror_mode": {
    "name": "ipython",
    "version": 3
   },
   "file_extension": ".py",
   "mimetype": "text/x-python",
   "name": "python",
   "nbconvert_exporter": "python",
   "pygments_lexer": "ipython3",
   "version": "3.8.3"
  },
  "orig_nbformat": 2
 },
 "nbformat": 4,
 "nbformat_minor": 2
}