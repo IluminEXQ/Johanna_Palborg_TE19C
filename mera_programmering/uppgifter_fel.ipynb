{
 "cells": [
  {
   "cell_type": "markdown",
   "metadata": {},
   "source": [
    "# Felhantering\n",
    "\n",
    "- Uppgift 1\n",
    "\n",
    "- Uppgift 2\n",
    "\n",
    "- Uppgift 3\n",
    " "
   ]
  },
  {
   "cell_type": "code",
   "execution_count": 1,
   "metadata": {},
   "outputs": [
    {
     "name": "stdout",
     "output_type": "stream",
     "text": [
      "1.0\n"
     ]
    }
   ],
   "source": [
    "# uppgift 1\r\n",
    "\r\n",
    "import numpy as np # import saknar ett t\r\n",
    "\r\n",
    "def distance(p1, p2) :\r\n",
    "    return np.sqrt(p1+p2) # det ska stå return\r\n",
    "\r\n",
    "print(distance(0.5,0.5)) # inga brackes >:(\r\n",
    "\r\n"
   ]
  },
  {
   "cell_type": "code",
   "execution_count": 2,
   "metadata": {},
   "outputs": [
    {
     "name": "stdout",
     "output_type": "stream",
     "text": [
      "100 är fyrsiffrigt\n",
      "231 är fyrsiffrigt\n",
      "10000 är inte fyrsiffrigt\n",
      "10001 är inte fyrsiffrigt\n",
      "-1000 är fyrsiffrigt\n",
      "102313 är inte fyrsiffrigt\n"
     ]
    }
   ],
   "source": [
    "# uppgift 2\r\n",
    "\r\n",
    "def ar_fyrsirigt(tal): # stavfel där nere därav stavfel här uppe :)\r\n",
    "    if tal/1000 < 10 : # bara ett slash\r\n",
    "        return True\r\n",
    "    else:\r\n",
    "        return False\r\n",
    "    \r\n",
    "# testprogram\r\n",
    "testtal = [100, 231, 10000, 10001, -1000, 102313]\r\n",
    "\r\n",
    "for t in testtal:\r\n",
    "    if ar_fyrsirigt(t): \r\n",
    "        print(f\"{t} är fyrsiffrigt\")\r\n",
    "    else:\r\n",
    "        print(f\"{t} är inte fyrsiffrigt\")"
   ]
  },
  {
   "cell_type": "code",
   "execution_count": 3,
   "metadata": {},
   "outputs": [
    {
     "name": "stdout",
     "output_type": "stream",
     "text": [
      "Engångsbiljetter är bättre :)\n"
     ]
    }
   ],
   "source": [
    "# uppgift 3\r\n",
    "\r\n",
    "engång = 34\r\n",
    "\r\n",
    "månad = 795\r\n",
    "\r\n",
    "while True:    \r\n",
    "    try: \r\n",
    "        turer = int(input(\"Hur många gånger åker du?\"))\r\n",
    "        assert turer >= 0, \"Kan inte vara under 0\"\r\n",
    "        break\r\n",
    "    except AssertionError as msg:\r\n",
    "        print(msg)\r\n",
    "    except:\r\n",
    "        print(\"Antalet måste vara ett heltal och inte en sträng\")\r\n",
    "    \r\n",
    "if turer * engång >= månad:\r\n",
    "    print(\"Du borde skaffa ett månadskort\")\r\n",
    "else:\r\n",
    "    print(\"Engångsbiljetter är bättre :)\")"
   ]
  }
 ],
 "metadata": {
  "kernelspec": {
   "display_name": "Python 3",
   "language": "python",
   "name": "python3"
  },
  "language_info": {
   "codemirror_mode": {
    "name": "ipython",
    "version": 3
   },
   "file_extension": ".py",
   "mimetype": "text/x-python",
   "name": "python",
   "nbconvert_exporter": "python",
   "pygments_lexer": "ipython3",
   "version": "3.8.3"
  },
  "orig_nbformat": 2
 },
 "nbformat": 4,
 "nbformat_minor": 2
}