{
 "cells": [
  {
   "cell_type": "markdown",
   "metadata": {},
   "source": [
    "# Numpy uppgifter\r\n",
    "\r\n",
    "- Uppgift 1\r\n",
    "- Uppgift 2\r\n",
    "- Uppgift 3"
   ]
  },
  {
   "cell_type": "code",
   "execution_count": 25,
   "metadata": {},
   "outputs": [
    {
     "name": "stdout",
     "output_type": "stream",
     "text": [
      "[ 1  2  3  4  5  6  7  8  9 10]\n"
     ]
    }
   ],
   "source": [
    "# Uppgift 1 a)\r\n",
    "import numpy as np\r\n",
    "\r\n",
    "tal = np.arange(1,11)\r\n",
    "print(tal) "
   ]
  },
  {
   "cell_type": "code",
   "execution_count": 24,
   "metadata": {},
   "outputs": [
    {
     "name": "stdout",
     "output_type": "stream",
     "text": [
      "[-10  -9  -8  -7  -6  -5  -4  -3  -2  -1   0   1   2   3   4   5   6   7\n",
      "   8   9  10]\n"
     ]
    }
   ],
   "source": [
    "# Uppgift 1 b)\r\n",
    "import numpy as np\r\n",
    "\r\n",
    "tal = np.arange(-10, 11)\r\n",
    "print(tal)"
   ]
  },
  {
   "cell_type": "code",
   "execution_count": 40,
   "metadata": {},
   "outputs": [
    {
     "name": "stdout",
     "output_type": "stream",
     "text": [
      "[ 1  2  3  4  5  6  7  8  9 10]\n",
      "[ 10  20  30  40  50  60  70  80  90 100]\n",
      "[ 100  200  300  400  500  600  700  800  900 1000]\n"
     ]
    }
   ],
   "source": [
    "# Uppgift 2\r\n",
    "import numpy as np\r\n",
    "\r\n",
    "tal = np.array([1,2,3,4,5,6,7,8,9,10])\r\n",
    "print(tal)\r\n",
    "tal2 = tal*10\r\n",
    "print(tal2)\r\n",
    "tal3 = tal2*10\r\n",
    "print(tal3)"
   ]
  },
  {
   "cell_type": "code",
   "execution_count": 44,
   "metadata": {},
   "outputs": [
    {
     "name": "stdout",
     "output_type": "stream",
     "text": [
      "[0 1 2 3 4 5 6 7 8 9]\n"
     ]
    },
    {
     "data": {
      "image/png": "[encoded data removed]",
      "text/plain": "<Figure size 432x288 with 1 Axes>"
     },
     "metadata": {
      "needs_background": "light"
     },
     "output_type": "display_data"
    }
   ],
   "source": [
    "# Uppgift 3\r\n",
    "import numpy as np\r\n",
    "import matplotlib.pyplot as plt\r\n",
    "\r\n",
    "x = np.arange(10)\r\n",
    "print(x)\r\n",
    "def f(x):\r\n",
    "    y = 3*x+1\r\n",
    "    return y\r\n",
    "\r\n",
    "plt.plot(x,f(x))\r\n",
    "plt.title(\"y = 3x+1\")\r\n",
    "plt.xlabel(\"x\")\r\n",
    "plt.ylabel(\"y\")\r\n",
    "plt.show()\r\n"
   ]
  }
 ],
 "metadata": {
  "kernelspec": {
   "display_name": "Python 3.8.3 64-bit ('johanna.palborg': virtualenv)",
   "metadata": {
    "interpreter": {
     "hash": "9165862904cd3b3af446efd2881d8b1fe2245a6082c42151547c5c2c16c835e5"
    }
   },
   "name": "python3"
  },
  "language_info": {
   "codemirror_mode": {
    "name": "ipython",
    "version": 3
   },
   "file_extension": ".py",
   "mimetype": "text/x-python",
   "name": "python",
   "nbconvert_exporter": "python",
   "pygments_lexer": "ipython3",
   "version": "3.8.3"
  },
  "orig_nbformat": 2
 },
 "nbformat": 4,
 "nbformat_minor": 2
}