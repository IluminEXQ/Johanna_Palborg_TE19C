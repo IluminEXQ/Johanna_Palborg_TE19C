{
 "cells": [
  {
   "cell_type": "markdown",
   "metadata": {},
   "source": [
    "# Dictionary\r\n",
    "- Uppgift 1 \r\n",
    "- Uppgift 2"
   ]
  },
  {
   "cell_type": "code",
   "execution_count": null,
   "metadata": {},
   "outputs": [],
   "source": [
    "# Uppgift 1\r\n",
    "\r\n",
    "summa = 0\r\n",
    "\r\n",
    "kurser = {\r\n",
    "    \"Matematik\":100,\r\n",
    "    \"Fysik\":150,\r\n",
    "    \"Programmering\":100,\r\n",
    "    \"Idrott\":100,\r\n",
    "    \"Webbutveckling\":100,\r\n",
    "    \"Tillämpadprogrammering\":100,\r\n",
    "    \"Engelska\":100,\r\n",
    "    \"Svenska\":100,\r\n",
    "    \"Dator och nätverksteknik\":100\r\n",
    "}\r\n",
    "\r\n",
    "print(\"Kurser\")\r\n",
    "for key, value in kurser.items():\r\n",
    "    summa += value\r\n",
    "    print(value, end=\", \")\r\n",
    "\r\n",
    "print(f\"\\n\\n Totala poäng:{summa}\")"
   ]
  },
  {
   "cell_type": "code",
   "execution_count": 1,
   "metadata": {},
   "outputs": [
    {
     "name": "stdout",
     "output_type": "stream",
     "text": [
      "Frekvenstabell\n",
      "1: 16569\n",
      "2: 16959\n",
      "3: 16841\n",
      "4: 16822\n",
      "5: 16591\n",
      "6: 16218\n"
     ]
    }
   ],
   "source": [
    "# 2\r\n",
    "import random as rnd\r\n",
    "\r\n",
    "ett = 0\r\n",
    "två = 0\r\n",
    "tre = 0\r\n",
    "fyra = 0\r\n",
    "fem = 0\r\n",
    "sex = 0\r\n",
    "\r\n",
    "for i in range(100000):\r\n",
    "    tärning = (rnd.randint(1,6))\r\n",
    "    if tärning == 1:\r\n",
    "        ett += 1\r\n",
    "    elif tärning == 2:\r\n",
    "        två += 1\r\n",
    "    elif tärning == 3:\r\n",
    "        tre += 1\r\n",
    "    elif tärning == 4:\r\n",
    "        fyra += 1\r\n",
    "    elif tärning == 5:\r\n",
    "        fem += 1\r\n",
    "    elif tärning == 6:\r\n",
    "        sex += 1\r\n",
    "\r\n",
    "Frekvens = {\r\n",
    "    \"1:\":ett,\r\n",
    "    \"2:\":två,\r\n",
    "    \"3:\":tre,\r\n",
    "    \"4:\":fyra,\r\n",
    "    \"5:\":fem,\r\n",
    "    \"6:\":sex\r\n",
    "}\r\n",
    "\r\n",
    "print(\"Frekvenstabell\")\r\n",
    "for key, value in Frekvens.items():\r\n",
    "    print(f\"{key} {value}\")"
   ]
  }
 ],
 "metadata": {
  "kernelspec": {
   "display_name": "Python 3.8.3 64-bit ('johanna.palborg': virtualenv)",
   "metadata": {
    "interpreter": {
     "hash": "9165862904cd3b3af446efd2881d8b1fe2245a6082c42151547c5c2c16c835e5"
    }
   },
   "name": "python3"
  },
  "language_info": {
   "codemirror_mode": {
    "name": "ipython",
    "version": 3
   },
   "file_extension": ".py",
   "mimetype": "text/x-python",
   "name": "python",
   "nbconvert_exporter": "python",
   "pygments_lexer": "ipython3",
   "version": "3.8.3"
  },
  "orig_nbformat": 2
 },
 "nbformat": 4,
 "nbformat_minor": 2
}